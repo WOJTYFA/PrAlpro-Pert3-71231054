{
 "cells": [
  {
   "cell_type": "code",
   "execution_count": 13,
   "metadata": {},
   "outputs": [
    {
     "name": "stdout",
     "output_type": "stream",
     "text": [
      "Anda Tidak Demam\n"
     ]
    }
   ],
   "source": [
    "#soal3.1(contoh 3.1)\n",
    "try:\n",
    "    suhu = int(input(\"Masukan suhu tubug: \"))\n",
    "    if suhu >= 38:\n",
    "        print(\"Anda Demam\")\n",
    "    else:\n",
    "        print(\"Anda Tidak Demam\")\n",
    "\n",
    "except:\n",
    "    print(ValueError)         \n"
   ]
  },
  {
   "cell_type": "code",
   "execution_count": 1,
   "metadata": {},
   "outputs": [
    {
     "name": "stdout",
     "output_type": "stream",
     "text": [
      " Positif \n"
     ]
    }
   ],
   "source": [
    "#soal 3.1 (contoh 3.2)\n",
    "bilangan = int (input( \" Masukan Suatu Bilangan: \"))\n",
    "try:\n",
    "    if bilangan > 0 :\n",
    "      print(\" Positif \")\n",
    "    elif bilangan < 0:\n",
    "       print(\" Negatif \")\n",
    "    elif bilangan == 0:\n",
    "       print( \" Nol \")\n",
    "except:\n",
    "   print(ValueError)  "
   ]
  },
  {
   "cell_type": "code",
   "execution_count": 2,
   "metadata": {},
   "outputs": [
    {
     "name": "stdout",
     "output_type": "stream",
     "text": [
      " Terbesar:  8\n"
     ]
    }
   ],
   "source": [
    "#soal 3.1 (contoh 3.3)\n",
    "#input a, b, c\n",
    "\n",
    "a = int(input(\" masukan bilangan pertama: \"))\n",
    "b = int(input(\" masukan bilangan kedua: \"))\n",
    "c = int(input(\" masukan bilangan ketiga: \"))\n",
    "\n",
    "try:\n",
    "    if a > b and a > c:\n",
    "        print(\" Terbesar: \", a)\n",
    "    elif b > a and b > c:\n",
    "        print(\" Terbesar: \", b)\n",
    "    elif c > a and c > a:\n",
    "        print(\" Terbesar: \", c)\n",
    "except:\n",
    "    print(ValueError)\n"
   ]
  },
  {
   "cell_type": "code",
   "execution_count": 3,
   "metadata": {},
   "outputs": [
    {
     "ename": "ValueError",
     "evalue": "invalid literal for int() with base 10: 'l'",
     "output_type": "error",
     "traceback": [
      "\u001b[1;31m---------------------------------------------------------------------------\u001b[0m",
      "\u001b[1;31mValueError\u001b[0m                                Traceback (most recent call last)",
      "Cell \u001b[1;32mIn[3], line 3\u001b[0m\n\u001b[0;32m      1\u001b[0m \u001b[38;5;66;03m#soal 3.2\u001b[39;00m\n\u001b[1;32m----> 3\u001b[0m bilangan \u001b[38;5;241m=\u001b[39m \u001b[38;5;28;43mint\u001b[39;49m\u001b[43m(\u001b[49m\u001b[38;5;28;43minput\u001b[39;49m\u001b[43m(\u001b[49m\u001b[38;5;124;43m\"\u001b[39;49m\u001b[38;5;124;43mmasukan bilangan: \u001b[39;49m\u001b[38;5;124;43m\"\u001b[39;49m\u001b[43m)\u001b[49m\u001b[43m)\u001b[49m\n\u001b[0;32m      4\u001b[0m \u001b[38;5;28;01mtry\u001b[39;00m:\n\u001b[0;32m      5\u001b[0m     \u001b[38;5;28;01mif\u001b[39;00m bilangan \u001b[38;5;241m<\u001b[39m \u001b[38;5;241m0\u001b[39m :\n",
      "\u001b[1;31mValueError\u001b[0m: invalid literal for int() with base 10: 'l'"
     ]
    }
   ],
   "source": [
    "#soal 3.2\n",
    "\n",
    "bilangan = int(input(\"masukan bilangan: \"))\n",
    "try:\n",
    "    if bilangan < 0 :\n",
    "        print(\"BILANGAN ITU NEGATIF\")\n",
    "    elif bilangan > 0 :\n",
    "        print(\"BILANGAN ITU POSITIF\")\n",
    "    elif bilangan == 0 :\n",
    "        print(\"BILANGAN ITU NOL\")\n",
    "except:\n",
    "    print:(ValueError)"
   ]
  },
  {
   "cell_type": "code",
   "execution_count": 14,
   "metadata": {},
   "outputs": [
    {
     "name": "stdout",
     "output_type": "stream",
     "text": [
      "nomor yang dimasukan harus antara 1 - 12\n",
      "<class 'ValueError'>\n"
     ]
    }
   ],
   "source": [
    "#soal 3.3\n",
    "try:\n",
    "    bulan = int(input(\" Masukan bulan ke (1 - 12)\"))\n",
    "    if bulan < 1 or bulan > 12 :\n",
    "        print(\"nomor yang dimasukan harus antara 1 - 12\")\n",
    "\n",
    "        #jumlah hati per bulan di 2020\n",
    "        jumlah_hari = [31, 29, 31, 30, 31, 30, 31, 31, 30, 31, 30, 31]\n",
    "        print(f\"jumlah hari dibulan {bulan} tahun 2020 adalah {jumlah_hari[bulan]} hari\")\n",
    "except:\n",
    "    print(ValueError)        "
   ]
  },
  {
   "cell_type": "code",
   "execution_count": 1,
   "metadata": {},
   "outputs": [
    {
     "name": "stdout",
     "output_type": "stream",
     "text": [
      " 2 sisi memiliki panjang sama \n"
     ]
    }
   ],
   "source": [
    "#soal 3.4\n",
    "\n",
    "a = float(input(\" panjang sisi pertama adalah : \"))\n",
    "b = float(input(\" panjang sisi kedua adalah : \"))\n",
    "c= float(input(\" panjang sisi ketiga adalah : \"))\n",
    "try:\n",
    "    if a == b == c:\n",
    "        print(\" 3 sisi memiliki panjnag sama \")\n",
    "    elif a == b or a == c or b == c :\n",
    "        print(\" 2 sisi memiliki panjang sama \")\n",
    "    else:\n",
    "        print(\" tidak ada sisi sama panjang \")\n",
    "except:\n",
    "    print(ValueError)"
   ]
  }
 ],
 "metadata": {
  "kernelspec": {
   "display_name": "Python 3",
   "language": "python",
   "name": "python3"
  },
  "language_info": {
   "codemirror_mode": {
    "name": "ipython",
    "version": 3
   },
   "file_extension": ".py",
   "mimetype": "text/x-python",
   "name": "python",
   "nbconvert_exporter": "python",
   "pygments_lexer": "ipython3",
   "version": "3.12.0"
  }
 },
 "nbformat": 4,
 "nbformat_minor": 2
}
