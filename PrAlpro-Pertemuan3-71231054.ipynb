{
 "cells": [
  {
   "cell_type": "code",
   "execution_count": 6,
   "metadata": {},
   "outputs": [
    {
     "name": "stdout",
     "output_type": "stream",
     "text": [
      "BILANGAN ITU GANJIL\n"
     ]
    }
   ],
   "source": [
    "#soal 3.2\n",
    "\n",
    "bilangan = int(input(\"masukan bilangan: \"))\n",
    "if bilangan % 2 == 0 :\n",
    "    print(\"BILANGAN ITU GENAP\")\n",
    "elif bilangan % 2 != 0 :\n",
    "    print(\"BILANGAN ITU GANJIL\")\n",
    "elif bilangan == 0 :\n",
    "    print(\"BILANGAN ITU NOL\")"
   ]
  },
  {
   "cell_type": "code",
   "execution_count": 5,
   "metadata": {},
   "outputs": [
    {
     "name": "stdout",
     "output_type": "stream",
     "text": [
      "jumlah hari di bulan 5 tahun 2020 adalah 30 hari\n"
     ]
    }
   ],
   "source": [
    "#soal 3.3\n",
    "\n",
    "bulan = int(input(\" masukan bulan ke (1-12)\"))\n",
    "if bulan < 1 or bulan > 12 :\n",
    "    print(\" nomor bulan yang dimasukan harus diantara 1 - 12\")\n",
    "\n",
    "#jumlah hari per bulan di tahun 2020\n",
    "jumlah_hari = [31, 29, 31, 30, 31, 30, 31, 31, 30, 31, 30, 31]\n",
    "print(f\"jumlah hari di bulan {bulan} tahun 2020 adalah {jumlah_hari[bulan]} hari\")\n"
   ]
  },
  {
   "cell_type": "code",
   "execution_count": 1,
   "metadata": {},
   "outputs": [
    {
     "name": "stdout",
     "output_type": "stream",
     "text": [
      " 2 sisi memiliki panjang sama \n"
     ]
    }
   ],
   "source": [
    "#soal 3.4\n",
    "\n",
    "a = float(input(\" panjang sisi pertama adalah : \"))\n",
    "b = float(input(\" panjang sisi kedua adalah : \"))\n",
    "c= float(input(\" panjang sisi ketiga adalah : \"))\n",
    "\n",
    "if a == b == c:\n",
    "    print(\" 3 sisi memiliki panjnag sama \")\n",
    "elif a == b or a == c or b == c :\n",
    "    print(\" 2 sisi memiliki panjang sama \")\n",
    "else:\n",
    "    print(\" tidak ada sisi sama panjang \")\n",
    "        "
   ]
  }
 ],
 "metadata": {
  "kernelspec": {
   "display_name": "Python 3",
   "language": "python",
   "name": "python3"
  },
  "language_info": {
   "codemirror_mode": {
    "name": "ipython",
    "version": 3
   },
   "file_extension": ".py",
   "mimetype": "text/x-python",
   "name": "python",
   "nbconvert_exporter": "python",
   "pygments_lexer": "ipython3",
   "version": "3.12.0"
  }
 },
 "nbformat": 4,
 "nbformat_minor": 2
}
